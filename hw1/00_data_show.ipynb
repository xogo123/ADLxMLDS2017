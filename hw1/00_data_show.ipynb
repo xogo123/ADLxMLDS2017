{
 "cells": [
  {
   "cell_type": "raw",
   "metadata": {},
   "source": [
    "# preprocessing\n",
    "# auther : Felix Chu\n",
    "# 2017_10_06\n",
    "\n",
    "# note : many different people will say same sentences\n",
    "\n",
    "# train.lab\n",
    "# 48_39.map\n",
    "# 48phone_char.map\n",
    "# sample.csv\n",
    "# mfcc/train.ark\n",
    "#     mfcc/test.ark\n",
    "#     fbank/train.ark\n",
    "#     fbank/test.ark\n",
    "\n",
    "# check_same_user\n",
    "# check_same_sentence"
   ]
  },
  {
   "cell_type": "code",
   "execution_count": 1,
   "metadata": {
    "collapsed": true
   },
   "outputs": [],
   "source": [
    "import numpy as np\n",
    "import pandas as pd\n"
   ]
  },
  {
   "cell_type": "code",
   "execution_count": 2,
   "metadata": {
    "collapsed": false
   },
   "outputs": [
    {
     "name": "stdout",
     "output_type": "stream",
     "text": [
      "                     0    1\n",
      "9960  makb0_si1016_602  sil\n",
      "9961  makb0_si1016_603  sil\n",
      "9962    makb0_si1646_1  sil\n",
      "9963    makb0_si1646_2  sil\n",
      "9964    makb0_si1646_3  sil\n",
      "9965    makb0_si1646_4  sil\n",
      "9966    makb0_si1646_5  sil\n",
      "9967    makb0_si1646_6  sil\n",
      "9968    makb0_si1646_7  sil\n",
      "9969    makb0_si1646_8  sil\n",
      "(1124823, 2)\n"
     ]
    }
   ],
   "source": [
    "#\n",
    "# train.lab\n",
    "#\n",
    "path_data = 'data/'\n",
    "lab_train = pd.read_csv('{}label/train.lab'.format(path_data), header=None)\n",
    "#print (lab_train.head(5))\n",
    "print (lab_train[9960:9970])\n",
    "print (lab_train.shape)\n",
    "\n"
   ]
  },
  {
   "cell_type": "code",
   "execution_count": 3,
   "metadata": {
    "collapsed": false
   },
   "outputs": [
    {
     "name": "stdout",
     "output_type": "stream",
     "text": [
      "\n",
      "48_39.map\n",
      "    0   1\n",
      "0  aa  aa\n",
      "1  ae  ae\n",
      "2  ah  ah\n",
      "3  ao  aa\n",
      "4  aw  aw\n"
     ]
    }
   ],
   "source": [
    "#\n",
    "# 48_39.map\n",
    "#\n",
    "map_48_39 = pd.read_csv('{}phones/48_39.map'.format(path_data), header=None, delimiter='\\t')\n",
    "print ('\\n48_39.map')\n",
    "print (map_48_39.head(5))\n",
    "\n"
   ]
  },
  {
   "cell_type": "code",
   "execution_count": 6,
   "metadata": {
    "collapsed": false
   },
   "outputs": [
    {
     "name": "stdout",
     "output_type": "stream",
     "text": [
      "\n",
      "48phone_char.map\n",
      "      0   1  2\n",
      "0    aa   0  a\n",
      "1    ae   1  b\n",
      "2    ah   2  c\n",
      "3    ao   3  d\n",
      "4    aw   4  e\n",
      "5    ax   5  f\n",
      "6    ay   6  g\n",
      "7     b   7  h\n",
      "8    ch   8  i\n",
      "9    cl   9  j\n",
      "10    d  10  k\n",
      "11   dh  11  l\n",
      "12   dx  12  m\n",
      "13   eh  13  n\n",
      "14   el  14  o\n",
      "15   en  15  p\n",
      "16  epi  16  q\n",
      "17   er  17  r\n",
      "18   ey  18  s\n",
      "19    f  19  t\n",
      "20    g  20  u\n",
      "21   hh  21  v\n",
      "22   ih  22  w\n",
      "23   ix  23  x\n",
      "24   iy  24  y\n",
      "25   jh  25  z\n",
      "26    k  26  A\n",
      "27    l  27  B\n",
      "28    m  28  C\n",
      "29    n  29  D\n",
      "30   ng  30  E\n",
      "31   ow  31  F\n",
      "32   oy  32  G\n",
      "33    p  33  H\n",
      "34    r  34  I\n",
      "35    s  35  J\n",
      "36   sh  36  K\n",
      "37  sil  37  L\n",
      "38    t  38  M\n",
      "39   th  39  N\n",
      "40   uh  40  O\n",
      "41   uw  41  P\n",
      "42    v  42  Q\n",
      "43  vcl  43  R\n",
      "44    w  44  S\n",
      "45    y  45  T\n",
      "46    z  46  U\n",
      "47   zh  47  V\n"
     ]
    }
   ],
   "source": [
    "#\n",
    "# 48phone_char.map\n",
    "#\n",
    "map_48phone_char = pd.read_csv('{}48phone_char.map'.format(path_data), header=None, delimiter='\\t')\n",
    "print ('\\n48phone_char.map')\n",
    "print (map_48phone_char)\n",
    "\n"
   ]
  },
  {
   "cell_type": "code",
   "execution_count": 7,
   "metadata": {
    "collapsed": false
   },
   "outputs": [
    {
     "name": "stdout",
     "output_type": "stream",
     "text": [
      "             id  phone_sequence\n",
      "0  fadg0_si1279             NaN\n",
      "1  fadg0_si1909             NaN\n",
      "2   fadg0_si649             NaN\n",
      "3   fadg0_sx109             NaN\n",
      "4    fadg0_sx19             NaN\n"
     ]
    }
   ],
   "source": [
    "#\n",
    "# sample.csv\n",
    "#\n",
    "sample = pd.read_csv('{}sample.csv'.format(path_data))\n",
    "print (sample.head(5))"
   ]
  },
  {
   "cell_type": "code",
   "execution_count": 6,
   "metadata": {
    "collapsed": false
   },
   "outputs": [
    {
     "name": "stdout",
     "output_type": "stream",
     "text": [
      "               0         1         2          3          4          5   \\\n",
      "0  faem0_si1392_1  38.35080 -31.04888 -10.463180  -9.166654 -11.218320   \n",
      "1  faem0_si1392_2  38.35080 -29.88511  -2.339327  -2.430964  -3.292726   \n",
      "2  faem0_si1392_3  35.55493 -29.10925  -6.475107 -10.889740   0.982063   \n",
      "3  faem0_si1392_4  34.15699 -34.54021  -9.724649 -12.299530  -6.915243   \n",
      "4  faem0_si1392_5  35.08895 -31.04888  -7.361346  -9.166654  -4.361423   \n",
      "\n",
      "         6          7          8          9     ...           30        31  \\\n",
      "0 -1.998698  18.509480   3.447642   6.247809    ...    -0.411974  0.251379   \n",
      "1  2.997352   5.760813   4.516098  14.786760    ...    -0.579583 -0.818907   \n",
      "2  1.332002  -5.247100   0.954580   8.887121    ...     0.140980 -1.236228   \n",
      "3  0.332792   4.418848  12.351440  22.254680    ...     0.601513 -0.386208   \n",
      "4 -0.666418  -6.293220   1.666884   8.421360    ...     0.272561  0.349647   \n",
      "\n",
      "         32        33        34        35        36        37        38  \\\n",
      "0 -0.019984 -1.283352  0.217253  0.412052  0.622866  0.754879  1.063677   \n",
      "1 -0.717855  0.100007 -0.231526 -1.060225 -1.233564 -0.346969  0.502436   \n",
      "2 -0.707863  1.457594 -0.309879 -1.640108 -2.526095 -1.917202 -0.785079   \n",
      "3 -0.746526  1.101547 -1.125876 -2.326726 -2.163239 -1.330647 -0.808050   \n",
      "4 -0.521708  1.064093 -0.648734 -1.154530 -1.029233 -0.324148 -0.450126   \n",
      "\n",
      "         39  \n",
      "0  0.784817  \n",
      "1  0.100313  \n",
      "2 -1.050887  \n",
      "3 -1.391136  \n",
      "4 -0.824935  \n",
      "\n",
      "[5 rows x 40 columns]\n"
     ]
    }
   ],
   "source": [
    "#\n",
    "# /mfcc/train.ark\n",
    "#\n",
    "train_ark = pd.read_csv('{}mfcc/train.ark'.format(path_data), header=None, delimiter=' ')\n",
    "print (train_ark.head(5))"
   ]
  },
  {
   "cell_type": "code",
   "execution_count": 7,
   "metadata": {
    "collapsed": false
   },
   "outputs": [
    {
     "name": "stdout",
     "output_type": "stream",
     "text": [
      "train users : 462\n",
      "test users : 74\n",
      "they don't have same user\n"
     ]
    }
   ],
   "source": [
    "#\n",
    "# check if same user in both train set and test set\n",
    "#\n",
    "\n",
    "train_ark = pd.read_csv('{}mfcc/train.ark'.format(path_data), header=None, delimiter=' ')\n",
    "test_ark = pd.read_csv('{}mfcc/test.ark'.format(path_data), header=None, delimiter=' ')\n",
    "\n",
    "id_train = train_ark[0]\n",
    "id_test = test_ark[0]\n",
    "\n",
    "lst_user_train = []\n",
    "lst_user_test = []\n",
    "\n",
    "for id in id_train :\n",
    "    name = id.split('_')[0]\n",
    "    if name not in lst_user_train :\n",
    "        lst_user_train += [name]\n",
    "for id in id_test :\n",
    "    name = id.split('_')[0]\n",
    "    if name not in lst_user_test :\n",
    "        lst_user_test += [name]\n",
    "\n",
    "print ('train users : ' + str(len(lst_user_train)))\n",
    "print ('test users : ' + str(len(lst_user_test)))\n",
    "\n",
    "intersection = set(lst_user_train) & set(lst_user_test)\n",
    "if intersection :\n",
    "    print ('they have same user')\n",
    "else :\n",
    "    print ('they don\\'t have same user')"
   ]
  },
  {
   "cell_type": "code",
   "execution_count": 8,
   "metadata": {
    "collapsed": false
   },
   "outputs": [
    {
     "name": "stdout",
     "output_type": "stream",
     "text": [
      "train sentences : 1716\n",
      "test sentences : 342\n",
      "they don't have same sentence\n"
     ]
    }
   ],
   "source": [
    "#\n",
    "# check if same sentence in both train set and test set\n",
    "#\n",
    "train_ark = pd.read_csv('{}mfcc/train.ark'.format(path_data), header=None, delimiter=' ')\n",
    "test_ark = pd.read_csv('{}mfcc/test.ark'.format(path_data), header=None, delimiter=' ')\n",
    "\n",
    "id_train = train_ark[0]\n",
    "id_test = test_ark[0]\n",
    "\n",
    "lst_sen_train = []\n",
    "lst_sen_test = []\n",
    "\n",
    "for id in id_train :\n",
    "    name = id.split('_')[1]\n",
    "    if name not in lst_sen_train :\n",
    "        lst_sen_train += [name]\n",
    "for id in id_test :\n",
    "    name = id.split('_')[1]\n",
    "    if name not in lst_sen_test :\n",
    "        lst_sen_test += [name]\n",
    "\n",
    "print ('train sentences : ' + str(len(lst_sen_train)))\n",
    "print ('test sentences : ' + str(len(lst_sen_test)))\n",
    "\n",
    "intersection = set(lst_sen_train) & set(lst_sen_test)\n",
    "if intersection :\n",
    "    print ('they have same sentence')\n",
    "else :\n",
    "    print ('they don\\'t have same sentence')"
   ]
  },
  {
   "cell_type": "code",
   "execution_count": null,
   "metadata": {
    "collapsed": false
   },
   "outputs": [],
   "source": []
  },
  {
   "cell_type": "code",
   "execution_count": null,
   "metadata": {
    "collapsed": true
   },
   "outputs": [],
   "source": []
  }
 ],
 "metadata": {
  "kernelspec": {
   "display_name": "Python 3",
   "language": "python",
   "name": "python3"
  },
  "language_info": {
   "codemirror_mode": {
    "name": "ipython",
    "version": 3
   },
   "file_extension": ".py",
   "mimetype": "text/x-python",
   "name": "python",
   "nbconvert_exporter": "python",
   "pygments_lexer": "ipython3",
   "version": "3.5.2"
  }
 },
 "nbformat": 4,
 "nbformat_minor": 2
}
