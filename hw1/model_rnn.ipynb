{
 "cells": [
  {
   "cell_type": "code",
   "execution_count": 1,
   "metadata": {},
   "outputs": [
    {
     "name": "stdout",
     "output_type": "stream",
     "text": [
      "strating time is 1509073527.534571\n"
     ]
    },
    {
     "name": "stderr",
     "output_type": "stream",
     "text": [
      "Using TensorFlow backend.\n"
     ]
    }
   ],
   "source": [
    "#%matplotlib inline\n",
    "\n",
    "import time\n",
    "start_time = time.time()\n",
    "print ('strating time is {}'.format(start_time))\n",
    "import preprocessing\n",
    "\n",
    "import os\n",
    "import sys\n",
    "import pickle\n",
    "import numpy as np\n",
    "import pandas as pd\n",
    "import keras\n",
    "import h5py\n",
    "\n",
    "#import matplotlib\n",
    "# matplotlib.use('Agg')\n",
    "#import matplotlib.pyplot as plt\n",
    "\n",
    "from keras.utils import to_categorical\n",
    "# from keras.layers import GRU, LSTM, Dropout, Dense, Input, TimeDistributed, Activation, Flatten, Concatenate\n",
    "from keras.layers import *\n",
    "from keras.models import Model, Sequential\n",
    "from keras.models import load_model\n",
    "# from keras.callbacks import *\n",
    "from keras.utils import plot_model\n",
    "\n",
    "\n",
    "# import tensorflow as tf\n",
    "# def init():\n",
    "#     config = tf.ConfigProto()\n",
    "#     config.gpu_options.allow_growth = True\n",
    "#     session = tf.Session(config=config)\n",
    "#     keras.backend.tensorflow_backend.set_session(session)\n",
    "\n",
    "# init()"
   ]
  },
  {
   "cell_type": "code",
   "execution_count": 2,
   "metadata": {
    "collapsed": true
   },
   "outputs": [],
   "source": [
    "test_only = 1\n",
    "model_plot = 0\n",
    "\n",
    "# path_data = 'data/'\n",
    "# str_output = 'ans.csv'\n",
    "\n",
    "if len(sys.argv) == 1 :\n",
    "    # default setting\n",
    "    path_data = 'data/'\n",
    "    str_output = 'ans_cnn.csv'\n",
    "else :\n",
    "    path_data = sys.argv[1]\n",
    "    str_output = sys.argv[2]\n"
   ]
  },
  {
   "cell_type": "code",
   "execution_count": null,
   "metadata": {},
   "outputs": [],
   "source": [
    "def predict_to_ans(ary_pred, model_name, mfcc_or_fbank, n_seq, GL, size_window, n_CNN_window) :\n",
    "    def num_to_char(ary_pred_num) :\n",
    "        map_48phone_char = pd.read_csv('{}48phone_char.map'.format(path_data), header=None, delimiter='\\t')\n",
    "        dict_map_48phone_char = dict()\n",
    "        for row in map_48phone_char.iterrows() :\n",
    "            #dict_map_48char[name[1][0]] = dict_map_39char[name[1][1]]\n",
    "            dict_map_48phone_char[row[1][1]] = row[1][2]\n",
    "        flat = ary_pred_num.flatten()\n",
    "        flat_copy = flat.copy().astype(str)\n",
    "        for i,num in enumerate(flat) :\n",
    "            flat_copy[i] = dict_map_48phone_char[num]\n",
    "        ary_pred_char = flat_copy.reshape((-1,n_seq))\n",
    "        return ary_pred_char\n",
    "\n",
    "    def find_mass_row(string) :\n",
    "        dict_count = dict()\n",
    "        for item in string :\n",
    "            try :\n",
    "                dict_count[item] += 1\n",
    "            except :\n",
    "                dict_count[item] = 1\n",
    "        max_item = max(dict_count, key=dict_count.get)\n",
    "        return max_item\n",
    "    \n",
    "    def find_mass_column(ary_pred, i_data_total) :\n",
    "        dict_count = dict()\n",
    "        for i in range(n_seq) :\n",
    "            item = ary_pred[i_data_total-n_seq+1+i][n_seq-1-i]\n",
    "            try :\n",
    "                dict_count[item] += 1\n",
    "            except :\n",
    "                dict_count[item] = 1\n",
    "        max_item = max(dict_count, key=dict_count.get)\n",
    "        return max_item\n",
    "    \n",
    "    def to_str_final(string) :\n",
    "        #\n",
    "        # combine two char if they are same\n",
    "        #\n",
    "        str_final = string[0]\n",
    "        for c in string[1:] :\n",
    "            if c != str_final[-1] :\n",
    "                str_final += c\n",
    "        #\n",
    "        # cut all sil in the begining\n",
    "        #\n",
    "        if str_final[0] == 'L' :\n",
    "            str_final = str_final[1:]\n",
    "            \n",
    "        if str_final[-1] == 'L' :\n",
    "            str_final = str_final[:-1]\n",
    "            \n",
    "        return str_final\n",
    "    \n",
    "    df_BE_test = pd.read_csv('./data_pp/beginEnd_test.csv')\n",
    "    \n",
    "    ary_pred_num = np.argmax(ary_pred, axis=2)\n",
    "    #print (ary_pred_num[200:206])\n",
    "    ary_pred_char = num_to_char(ary_pred_num)\n",
    "    \n",
    "    lst_X_data = []\n",
    "    i_data_total = 0 # for loop use\n",
    "    ans = []\n",
    "    for BE in df_BE_test.iterrows() :\n",
    "        index_begin = BE[1]['index_begin']\n",
    "        index_end = BE[1]['index_end']\n",
    "        length_BE = BE[1]['length']\n",
    "        if model_name == 'RNN' :\n",
    "            n_data = length_BE - n_seq + 1\n",
    "        elif model_name == 'CNN' :\n",
    "            n_data = length_BE - n_seq + 1 - n_CNN_window + 1\n",
    "        assert n_data >= 1, 'n_data should bigger than 1, please do checking'\n",
    "        \n",
    "        str_temp = ''\n",
    "        str_temp_2 = ''\n",
    "        for i_data in range(n_data) :\n",
    "            dic_temp = dict()\n",
    "            if (i_data < n_seq - 1) : # don't count the begining and end sequence\n",
    "                i_data_total += 1\n",
    "                continue\n",
    "            else :\n",
    "                str_temp += str(find_mass_column(ary_pred_char, i_data_total))\n",
    "                i_data_total += 1\n",
    "        assert len(str_temp) == n_data - n_seq + 1, 'len(str_temp) != n_data - n_seq + 1, please check'\n",
    "        \n",
    "        for t in range(len(str_temp) - size_window + 1) :\n",
    "            str_temp_2 += str(find_mass_row(str_temp[t:t+size_window]))\n",
    "        assert len(str_temp_2) == len(str_temp) - size_window + 1, 'len(str_temp_2) != len(str_temp) - size_window + 1, please check'\n",
    "        \n",
    "        str_final = to_str_final(str_temp_2)\n",
    "        \n",
    "        ans += [str_final]\n",
    "        \n",
    "    print ('max_len_ans : {}'.format(max(len(x) for x in ans)))\n",
    "    \n",
    "    sample = pd.read_csv('./sample.csv'.format(path_data))\n",
    "    assert len(sample['phone_sequence']) == len(ans), 'len(sample[\\'phone_sequence\\']) != len(ans), please check'\n",
    "    \n",
    "    sample['phone_sequence'] = pd.DataFrame(ans)\n",
    "    if test_only :\n",
    "        sample.to_csv(str_output, index=False)\n",
    "        \n",
    "    return sample"
   ]
  },
  {
   "cell_type": "code",
   "execution_count": 9,
   "metadata": {
    "collapsed": true
   },
   "outputs": [],
   "source": [
    "def do_testing_test_only(X_test, lst_size_window, n_CNN_window) :\n",
    "    #\n",
    "    # loading data\n",
    "    #\n",
    "    #X_test = np.load('./data_pp/X_test_{}_{}_{}.npy'.format(model_name, mfcc_or_fbank, n_seq))\n",
    "    model = load_model('./model/{}_{}_{}_{}.h5'.format(model_name, mfcc_or_fbank, n_seq, GL))\n",
    "    if model_plot :\n",
    "        plot_model(model, to_file='./model/{}_{}_{}_{}.png'.format(model_name, mfcc_or_fbank, n_seq, GL))\n",
    "    \n",
    "    if model_name == 'CNN' :\n",
    "        X_test = X_test.reshape((-1,n_seq,n_CNN_window,int(dim/n_CNN_window),n_CNN_window))\n",
    "        print ('X_test.shape : ')\n",
    "        print (X_test.shape)\n",
    "\n",
    "    pred = model.predict(X_test)\n",
    "    for size_window in lst_size_window :\n",
    "        ans = predict_to_ans(pred, model_name, mfcc_or_fbank, n_seq, GL, size_window, n_CNN_window)\n",
    "        print (ans[:5])"
   ]
  },
  {
   "cell_type": "code",
   "execution_count": 10,
   "metadata": {},
   "outputs": [
    {
     "name": "stdout",
     "output_type": "stream",
     "text": [
      "creating CNN_mfcc_9.npy\n",
      "test data is building...\n",
      "finished making CNN data\n",
      "making_CNN_data_test_only took 266.6672258377075 to run\n",
      "preprocessing costs 277.0838463306427\n",
      "preprocess finished...\n",
      "do testing...\n",
      "X_test.shape : \n",
      "(174486, 9, 3, 13, 3)\n",
      "max_len_ans : 76\n",
      "             id                                     phone_sequence\n",
      "0  fadg0_si1279                            hIwLAJUaIrDFBLMrDwLMwQt\n",
      "1  fadg0_si1909                     tbLKsFPLkwDBPwJIBUJLHwLDyLlwKr\n",
      "2   fadg0_si649  wLJctIrJtrCcBgbLcQvyDwLMywQLHrLHwJwDIrJLHnLMtr...\n",
      "3   fadg0_sx109            KyJBOLMwDJLHIwEvrIbELABFBaDcJLMyLHJBFLH\n",
      "4    fadg0_sx19                  cBwFCwDcCDJFQSwrLAwDatwDLhytBnDUy\n",
      "My program took 482.3806972503662 to run\n"
     ]
    }
   ],
   "source": [
    "lst_size_window = [7] # for pred_to_ans\n",
    "n_CNN_window = 3\n",
    "n_seq = 13\n",
    "# k = 1\n",
    "\n",
    "mfcc_or_fbank = 'mfcc'\n",
    "model_name = 'RNN' # CNN or RNN\n",
    "GL = 'GRU' # GRU or LSTM \n",
    "\n",
    "if mfcc_or_fbank == 'mfcc' :\n",
    "    dim = 39\n",
    "else :\n",
    "    dim = 69\n",
    "\n",
    "# for traingin \n",
    "batch_size = 1024\n",
    "\n",
    "if test_only :\n",
    "    X_test = preprocessing.preprocessing_test_only(path_data,model_name,mfcc_or_fbank,n_seq,n_CNN_window)\n",
    "    print ('do testing...')\n",
    "    do_testing_test_only(X_test, lst_size_window, n_CNN_window)\n",
    "\n",
    "print (\"My program took\", str(time.time() - start_time), \"to run\")\n",
    "print ('all done')"
   ]
  },
  {
   "cell_type": "code",
   "execution_count": null,
   "metadata": {
    "collapsed": true
   },
   "outputs": [],
   "source": [
    "\n",
    "    \n"
   ]
  },
  {
   "cell_type": "code",
   "execution_count": null,
   "metadata": {
    "collapsed": true
   },
   "outputs": [],
   "source": []
  },
  {
   "cell_type": "code",
   "execution_count": null,
   "metadata": {
    "collapsed": true
   },
   "outputs": [],
   "source": []
  }
 ],
 "metadata": {
  "kernelspec": {
   "display_name": "Python 3",
   "language": "python",
   "name": "python3"
  },
  "language_info": {
   "codemirror_mode": {
    "name": "ipython",
    "version": 3
   },
   "file_extension": ".py",
   "mimetype": "text/x-python",
   "name": "python",
   "nbconvert_exporter": "python",
   "pygments_lexer": "ipython3",
   "version": "3.5.2"
  }
 },
 "nbformat": 4,
 "nbformat_minor": 2
}
