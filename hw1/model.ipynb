{
 "cells": [
  {
   "cell_type": "code",
   "execution_count": 7,
   "metadata": {
    "collapsed": false
   },
   "outputs": [],
   "source": [
    "import sys\n",
    "import numpy as np\n",
    "import pandas as pd\n",
    "import keras\n"
   ]
  },
  {
   "cell_type": "code",
   "execution_count": 8,
   "metadata": {
    "collapsed": true
   },
   "outputs": [],
   "source": [
    "n_user_train = 462\n",
    "n_user_test = 74\n",
    "n_sen_train = 1716\n",
    "n_sen_test = 342\n",
    "\n",
    "path_data = 'data/'\n",
    "mfcc_or_fbank = 'mfcc'\n",
    "if mfcc_or_fbank == 'mfcc' :\n",
    "    dim = 39\n",
    "else :\n",
    "    dim = 69\n",
    "\n",
    "batch_size = 256\n",
    "\n",
    "# RNN seting\n",
    "n_RNN_seq = 3"
   ]
  },
  {
   "cell_type": "code",
   "execution_count": 5,
   "metadata": {
    "collapsed": false
   },
   "outputs": [
    {
     "name": "stdout",
     "output_type": "stream",
     "text": [
      "                0   1\n",
      "0  faem0_si1392_1  37\n",
      "1  faem0_si1392_2  37\n",
      "2  faem0_si1392_3  37\n",
      "  speakerId sentenceId  index_begin  index_end\n",
      "0     faem0     si1392            0        473\n",
      "1     faem0     si2022          474        696\n",
      "2     faem0      si762          697        970\n"
     ]
    }
   ],
   "source": [
    "#\n",
    "# loading data\n",
    "#\n",
    "lab_train_num_reindex_axis = pd.read_csv('{}data_pp/lab_train_num_reindex_axis.csv'.format(path_data))\n",
    "df_BE_train = pd.read_csv('{}data_pp/beginEnd_train.csv'.format(path_data))\n",
    "df_BE_test = pd.read_csv('{}data_pp/beginEnd_test.csv'.format(path_data))\n",
    "\n",
    "\n",
    "print (lab_train_num_reindex_axis.head(3))\n",
    "print (df_BE_train.head(3))\n"
   ]
  },
  {
   "cell_type": "code",
   "execution_count": 6,
   "metadata": {
    "collapsed": true
   },
   "outputs": [],
   "source": [
    "class RNN_data_generator(object):\n",
    "    def __init__(self, X, y, BE, n_sen, batch_size=batch_size, n_seq=n_RNN_seq, dim=dim, shuffle = False):\n",
    "        self.X = X\n",
    "        self.y = y\n",
    "        self.BE = BE\n",
    "        self.n_sen = n_sen\n",
    "        self.len_X = X.shape[0] - (n_sen * n_seq) + 1\n",
    "        self.batch_size = batch_size\n",
    "        self.n_seq = n_seq\n",
    "        self.dim = dim\n",
    "        self.shuffle = shuffle\n",
    "\n",
    "    def generate(self, labels, list_IDs):\n",
    "        # Generates batches of samples\n",
    "        # Infinite loop\n",
    "        while 1:\n",
    "            # Generate order of exploration of dataset\n",
    "            indexes = np.arange(self.len_X)\n",
    "            if self.shuffle == True:\n",
    "                np.random.shuffle(indexes)\n",
    "                \n",
    "\n",
    "            # Generate batches\n",
    "            imax = int(self.len_X/self.batch_size)\n",
    "            k_skip = 0\n",
    "            i_input = 0\n",
    "            for i_output_batch in range(imax):\n",
    "                output_X = np.empty((self.batch_size, n_seq, dim), dtype=float)\n",
    "                output_y = np.empty((self.batch_size, n_seq, 1), dtype=float)\n",
    "                #i_input = i * self.batch_size + (k_skip * n_seq)\n",
    "                i_output_seq = 0\n",
    "                for i_output_seq in range(self.batch_size) :\n",
    "                    while i_input + n_seq - 2 in BE['index_end'] :\n",
    "                        k_skip += 1\n",
    "                        i_input += n_seq - 1\n",
    "                    output_X[i_output_batch,i_output_seq] = self.X.iloc[i_input]\n",
    "                    output_y[i_output_batch,i_output_seq] = self.y.iloc[i_input]                \n",
    "\n",
    "            yield output_X, output_y\n",
    "                \n",
    "    "
   ]
  },
  {
   "cell_type": "code",
   "execution_count": null,
   "metadata": {
    "collapsed": true
   },
   "outputs": [],
   "source": [
    "# BE 要多新增一個 'length', 作validation時要重算新的BE"
   ]
  },
  {
   "cell_type": "code",
   "execution_count": null,
   "metadata": {
    "collapsed": true
   },
   "outputs": [],
   "source": [
    "#\n",
    "# RNN_model\n",
    "#\n",
    "def run_RNN_model() :\n",
    "    \n",
    "#     data_generator = RNN_data_generator( X, y, BE, n_sen, batch_size=batch_size, n_seq=n_RNN_seq, dim=dim, shuffle = False):\n",
    "        "
   ]
  }
 ],
 "metadata": {
  "kernelspec": {
   "display_name": "Python 3",
   "language": "python",
   "name": "python3"
  },
  "language_info": {
   "codemirror_mode": {
    "name": "ipython",
    "version": 3
   },
   "file_extension": ".py",
   "mimetype": "text/x-python",
   "name": "python",
   "nbconvert_exporter": "python",
   "pygments_lexer": "ipython3",
   "version": "3.5.2"
  }
 },
 "nbformat": 4,
 "nbformat_minor": 2
}
