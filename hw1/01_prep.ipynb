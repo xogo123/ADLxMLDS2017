{
 "cells": [
  {
   "cell_type": "code",
   "execution_count": 1,
   "metadata": {
    "collapsed": true
   },
   "outputs": [],
   "source": [
    "import sys\n",
    "import numpy as np\n",
    "import pandas as pd"
   ]
  },
  {
   "cell_type": "code",
   "execution_count": 2,
   "metadata": {
    "collapsed": true
   },
   "outputs": [],
   "source": [
    "path_data = 'data/'"
   ]
  },
  {
   "cell_type": "code",
   "execution_count": null,
   "metadata": {
    "collapsed": false
   },
   "outputs": [
    {
     "name": "stdout",
     "output_type": "stream",
     "text": [
      "    0   1\n",
      "0  aa  aa\n",
      "1  ae  ae\n",
      "2  ah  ah\n",
      "3  ao  aa\n",
      "4  aw  aw\n",
      "    0  1  2\n",
      "0  aa  0  a\n",
      "1  ae  1  b\n",
      "2  ah  2  c\n",
      "3  ao  3  d\n",
      "4  aw  4  e\n",
      "                  1\n",
      "0                  \n",
      "maeb0_si1411_1  sil\n",
      "maeb0_si1411_2  sil\n",
      "maeb0_si1411_3  sil\n",
      "maeb0_si1411_4  sil\n",
      "maeb0_si1411_5  sil\n",
      "{'iy': 24, 'ng': 30, 'ix': 22, 'f': 19, 'sil': 37, 'aa': 0, 'p': 33, 'k': 26, 'oy': 32, 'dx': 12, 'hh': 21, 'el': 27, 'ay': 6, 'b': 7, 'ih': 22, 'er': 17, 'ey': 18, 'uw': 41, 'v': 42, 'ae': 1, 't': 38, 'd': 10, 'en': 29, 'w': 44, 'jh': 25, 'epi': 37, 'ax': 2, 'r': 34, 'sh': 36, 'm': 28, 'zh': 36, 'ch': 8, 'dh': 11, 'aw': 4, 'l': 27, 'eh': 13, 'uh': 40, 'z': 46, 'y': 45, 'th': 39, 'cl': 37, 'ow': 31, 'vcl': 37, 's': 35, 'g': 20, 'ah': 2, 'ao': 0, 'n': 29}\n",
      "56796/1124823 \t"
     ]
    }
   ],
   "source": [
    "#\n",
    "# map 48 to char or num\n",
    "#\n",
    "map_48_39 = pd.read_csv('{}phones/48_39.map'.format(path_data), header=None, delimiter='\\t')\n",
    "print (map_48_39.head(5))\n",
    "map_48phone_char = pd.read_csv('{}48phone_char.map'.format(path_data), header=None, delimiter='\\t')\n",
    "print (map_48phone_char.head(5))\n",
    "lab_train = pd.read_csv('{}label/train.lab'.format(path_data), index_col=0, header=None)\n",
    "print (lab_train.head(5))\n",
    "    \n",
    "dict_map_39char = dict()\n",
    "dict_map_39num = dict()\n",
    "for name in map_48phone_char.iterrows() :\n",
    "    dict_map_39char[name[1][0]] = name[1][2]\n",
    "    dict_map_39num[name[1][0]] = name[1][1]\n",
    "    \n",
    "dict_map_48char = dict()\n",
    "dict_map_48num = dict()\n",
    "for name in map_48_39.iterrows() :\n",
    "    dict_map_48char[name[1][0]] = dict_map_39char[name[1][1]]\n",
    "    dict_map_48num[name[1][0]] = dict_map_39num[name[1][1]]\n",
    "\n",
    "    \n",
    "print (dict_map_48num)    \n",
    "len_lab_train = lab_train.shape[0]\n",
    "for i,lab in enumerate(lab_train[1]) :\n",
    "    sys.stdout.write('\\r{}/{} \\t'.format(i,len_lab_train))\n",
    "    sys.stdout.flush()\n",
    "    lab_train[1][i] = dict_map_48num[lab]\n",
    "            \n",
    "#check\n",
    "for i,lab in enumerate(lab_train[1]) :\n",
    "    if lab in dict_map :\n",
    "        if lab != dict_map[lab] :\n",
    "            print ('error')\n",
    "            break\n",
    "\n",
    "    "
   ]
  },
  {
   "cell_type": "code",
   "execution_count": null,
   "metadata": {
    "collapsed": false
   },
   "outputs": [],
   "source": [
    "#\n",
    "# preprocessing training data (note : sorting between train.ark and train.lab are different)\n",
    "#\n",
    "train_ark = pd.read_csv('{}mfcc/train.ark'.format(path_data), index_col=0, header=None, delimiter=' ')\n",
    "train_ark_no_index_col = pd.read_csv('{}mfcc/train.ark'.format(path_data), header=None, delimiter=' ')\n",
    "lab_train = pd.read_csv('{}label/train.lab'.format(path_data), index_col=0, header=None)\n",
    "# print ('train.shape = ' + str(train_ark.shape))\n",
    "print (train_ark.head(5))\n",
    "# print ('lab.shape = ' + str(lab_train.shape))\n",
    "print (lab_train.head(5))\n",
    "\n",
    "data_combine = pd.concat([train_ark,lab_train],axis=1)\n",
    "data_combine = data_combine.reindex_axis(train_ark_no_index_col[0], axis=0)\n",
    "print (data_combine)\n",
    "print ('train.shape = ' + str(train_ark.shape))\n",
    "print ('lab.shape = ' + str(lab_train.shape))\n",
    "print ('data_combine.shape = ' + str(data_combine.shape))\n",
    "# #\n",
    "# # resorting\n",
    "# #\n",
    "# train_ark.sort_values(by=[0], inplace=True)\n",
    "# lab_train.sort_values(by=[0], inplace=True)\n",
    "# # print (train_ark.head(5))\n",
    "# # print (lab_train.head(5))\n",
    "\n",
    "# train_ark.drop(0,axis=1, inplace=True)\n",
    "# train_ark.reset_index(drop=True, inplace=True)\n",
    "# lab_train.drop(0,axis=1, inplace=True)\n",
    "# lab_train.reset_index(drop=True, inplace=True)\n",
    "# print (train_ark.head(5))\n",
    "# print (lab_train.head(5))\n",
    "# print ('train.shape = ' + str(train_ark.shape))\n",
    "# print ('lab.shape = ' + str(lab_train.shape))\n",
    "\n",
    "\n"
   ]
  },
  {
   "cell_type": "code",
   "execution_count": null,
   "metadata": {
    "collapsed": false
   },
   "outputs": [],
   "source": [
    "#\n",
    "# preprocessing testing data\n",
    "#\n",
    "test_ark = pd.read_csv('{}mfcc/test.ark'.format(path_data), header=None, delimiter=' ')\n",
    "# print ('test.shape = ' + str(test_ark.shape))\n",
    "# print (test_ark.head(5))\n",
    "\n",
    "test_ark.drop(0,axis=1, inplace=True)\n",
    "test_ark.reset_index(drop=True, inplace=True)\n",
    "print (test_ark.head(5))\n",
    "print ('test.shape = ' + str(test_ark.shape))"
   ]
  },
  {
   "cell_type": "code",
   "execution_count": null,
   "metadata": {
    "collapsed": false
   },
   "outputs": [],
   "source": []
  },
  {
   "cell_type": "code",
   "execution_count": null,
   "metadata": {
    "collapsed": true
   },
   "outputs": [],
   "source": []
  }
 ],
 "metadata": {
  "kernelspec": {
   "display_name": "Python 3",
   "language": "python",
   "name": "python3"
  },
  "language_info": {
   "codemirror_mode": {
    "name": "ipython",
    "version": 3
   },
   "file_extension": ".py",
   "mimetype": "text/x-python",
   "name": "python",
   "nbconvert_exporter": "python",
   "pygments_lexer": "ipython3",
   "version": "3.5.2"
  }
 },
 "nbformat": 4,
 "nbformat_minor": 2
}
